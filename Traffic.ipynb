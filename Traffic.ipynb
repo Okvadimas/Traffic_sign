{
  "nbformat": 4,
  "nbformat_minor": 0,
  "metadata": {
    "colab": {
      "name": "Traffic.ipynb",
      "provenance": [],
      "collapsed_sections": []
    },
    "kernelspec": {
      "name": "python3",
      "display_name": "Python 3"
    }
  },
  "cells": [
    {
      "cell_type": "code",
      "metadata": {
        "id": "pu7jeeW1DIaL",
        "colab_type": "code",
        "colab": {}
      },
      "source": [
        "import numpy as np\n",
        "import pandas as pd\n",
        "import tensorflow as tf\n",
        "import matplotlib.pyplot as plt\n",
        "import cv2\n",
        "import pickle\n",
        "import os\n",
        "import random"
      ],
      "execution_count": null,
      "outputs": []
    },
    {
      "cell_type": "code",
      "metadata": {
        "id": "ISWw1rBiE9L9",
        "colab_type": "code",
        "colab": {
          "base_uri": "https://localhost:8080/",
          "height": 34
        },
        "outputId": "767659f9-c1c0-4606-fd44-c2704ee4a386"
      },
      "source": [
        "from google.colab import drive\n",
        "drive.mount('/content/drive')"
      ],
      "execution_count": null,
      "outputs": [
        {
          "output_type": "stream",
          "text": [
            "Drive already mounted at /content/drive; to attempt to forcibly remount, call drive.mount(\"/content/drive\", force_remount=True).\n"
          ],
          "name": "stdout"
        }
      ]
    },
    {
      "cell_type": "code",
      "metadata": {
        "id": "gG9iKNmIFIl8",
        "colab_type": "code",
        "colab": {}
      },
      "source": [
        "import os\n",
        "os.environ[\"KAGGLE_CONFIG_DIR\"] = '/content/drive/My Drive/Traffic'"
      ],
      "execution_count": null,
      "outputs": []
    },
    {
      "cell_type": "code",
      "metadata": {
        "id": "wIVTM4cmFYpl",
        "colab_type": "code",
        "colab": {
          "base_uri": "https://localhost:8080/",
          "height": 34
        },
        "outputId": "87580a69-62a6-4ddb-fbf4-489922a0ea41"
      },
      "source": [
        "%cd /content/drive/My\\ Drive/Traffic"
      ],
      "execution_count": null,
      "outputs": [
        {
          "output_type": "stream",
          "text": [
            "/content/drive/My Drive/Traffic\n"
          ],
          "name": "stdout"
        }
      ]
    },
    {
      "cell_type": "code",
      "metadata": {
        "id": "3tsQFQ3WFdKP",
        "colab_type": "code",
        "colab": {}
      },
      "source": [
        "# !unzip myData.zip"
      ],
      "execution_count": null,
      "outputs": []
    },
    {
      "cell_type": "code",
      "metadata": {
        "id": "urM-e8ApE6Tw",
        "colab_type": "code",
        "colab": {
          "base_uri": "https://localhost:8080/",
          "height": 266
        },
        "outputId": "2d69dc3d-a107-4f7e-ebd9-c25ff5e0d6d4"
      },
      "source": [
        "base_dir = os.path.join(\"myData\")\n",
        "\n",
        "for i in os.listdir(base_dir):\n",
        "    myPictList = os.path.join(base_dir,i)\n",
        "    for j in os.listdir(myPictList):\n",
        "        img = cv2.imread(os.path.join(myPictList,j), cv2.IMREAD_GRAYSCALE)\n",
        "        plt.imshow(img, cmap=\"gray\")\n",
        "        plt.show()\n",
        "        break\n",
        "    break"
      ],
      "execution_count": null,
      "outputs": [
        {
          "output_type": "display_data",
          "data": {
            "image/png": "[encoded data removed]",
            "text/plain": [
              "<Figure size 432x288 with 1 Axes>"
            ]
          },
          "metadata": {
            "tags": [],
            "needs_background": "light"
          }
        }
      ]
    },
    {
      "cell_type": "code",
      "metadata": {
        "id": "bEzRU0IzIf1A",
        "colab_type": "code",
        "colab": {}
      },
      "source": [
        "# training_data = []\n",
        "\n",
        "# def create_training_data():\n",
        "#   for i in os.listdir(base_dir):\n",
        "#       myPictList = os.path.join(base_dir,i)\n",
        "#       print(i, end=\" \")\n",
        "#       for j in os.listdir(myPictList):\n",
        "#           img = cv2.imread(os.path.join(myPictList,j))\n",
        "#           training_data.append([img, i])\n",
        "                     \n",
        "# create_training_data()"
      ],
      "execution_count": null,
      "outputs": []
    },
    {
      "cell_type": "code",
      "metadata": {
        "id": "v1pr6E5-JEso",
        "colab_type": "code",
        "colab": {}
      },
      "source": [
        "# len(training_data)"
      ],
      "execution_count": null,
      "outputs": []
    },
    {
      "cell_type": "code",
      "metadata": {
        "id": "5th6M6g8_EiE",
        "colab_type": "code",
        "colab": {}
      },
      "source": [
        "# import pickle\n",
        "\n",
        "# pickle_out = open('training_data_traffic.pickle', 'wb')\n",
        "# pickle.dump(training_data, pickle_out)\n",
        "# pickle_out.close()"
      ],
      "execution_count": null,
      "outputs": []
    },
    {
      "cell_type": "code",
      "metadata": {
        "id": "bqoP34yH_bNj",
        "colab_type": "code",
        "colab": {}
      },
      "source": [
        "pickle_in = open('training_data_traffic.pickle', 'rb')\n",
        "training_data_pickle = pickle.load(pickle_in)"
      ],
      "execution_count": null,
      "outputs": []
    },
    {
      "cell_type": "code",
      "metadata": {
        "id": "n9izlnvO_sL2",
        "colab_type": "code",
        "colab": {
          "base_uri": "https://localhost:8080/",
          "height": 34
        },
        "outputId": "0ee47bbb-188a-4827-f731-7debb0991aa5"
      },
      "source": [
        "len(training_data_pickle)"
      ],
      "execution_count": null,
      "outputs": [
        {
          "output_type": "execute_result",
          "data": {
            "text/plain": [
              "34799"
            ]
          },
          "metadata": {
            "tags": []
          },
          "execution_count": 11
        }
      ]
    },
    {
      "cell_type": "code",
      "metadata": {
        "id": "evq5oI0UNR6z",
        "colab_type": "code",
        "colab": {}
      },
      "source": [
        "features = []\n",
        "labels = []\n",
        "\n",
        "for feature, label in training_data_pickle:\n",
        "  features.append(feature)\n",
        "  labels.append(label)"
      ],
      "execution_count": null,
      "outputs": []
    },
    {
      "cell_type": "code",
      "metadata": {
        "id": "nX8PTH7VZ2KJ",
        "colab_type": "code",
        "colab": {}
      },
      "source": [
        "from sklearn.model_selection import train_test_split\n",
        "\n",
        "X_train, X_test, y_train, y_test = train_test_split(features, labels, random_state=7, test_size=0.2)"
      ],
      "execution_count": null,
      "outputs": []
    },
    {
      "cell_type": "code",
      "metadata": {
        "id": "RP30by4INdAN",
        "colab_type": "code",
        "colab": {
          "base_uri": "https://localhost:8080/",
          "height": 51
        },
        "outputId": "3eefcea2-b6fe-4732-8248-9ac4577407bb"
      },
      "source": [
        "print(len(features))\n",
        "print(len(labels))"
      ],
      "execution_count": null,
      "outputs": [
        {
          "output_type": "stream",
          "text": [
            "34799\n",
            "34799\n"
          ],
          "name": "stdout"
        }
      ]
    },
    {
      "cell_type": "code",
      "metadata": {
        "id": "FFfhMOghQyot",
        "colab_type": "code",
        "colab": {}
      },
      "source": [
        "X_train = np.array(X_train).reshape(-1,32,32,3)\n",
        "X_train = X_train/255.0"
      ],
      "execution_count": null,
      "outputs": []
    },
    {
      "cell_type": "code",
      "metadata": {
        "id": "GybcFJ4I_2nO",
        "colab_type": "code",
        "colab": {}
      },
      "source": [
        "import tensorflow as tf\n",
        "\n",
        "resnet = tf.keras.applications.ResNet50V2(weights='imagenet', include_top=False, input_shape=(32,32,3))\n",
        "\n",
        "resnet.trainable = False"
      ],
      "execution_count": null,
      "outputs": []
    },
    {
      "cell_type": "code",
      "metadata": {
        "id": "oSo76H-gJdXR",
        "colab_type": "code",
        "colab": {}
      },
      "source": [
        "# model = tf.keras.models.Sequential([\n",
        "#     resnet,\n",
        "#     tf.keras.layers.GlobalAveragePooling2D(),\n",
        "#     tf.keras.layers.Dense(256, activation='relu'),\n",
        "#     tf.keras.layers.Dropout(0.2),\n",
        "#     tf.keras.layers.Dense(43, activation=\"softmax\")\n",
        "# ])\n",
        "\n",
        "from tensorflow.keras.models import Sequential\n",
        "from tensorflow.keras.layers import Conv2D, MaxPool2D, Dropout, Dense, Flatten\n",
        "\n",
        "model = Sequential()\n",
        "model.add(Conv2D(filters=32, kernel_size=(5,5), activation='relu', input_shape=(32,32,3)))\n",
        "model.add(Conv2D(filters=64, kernel_size=(3, 3), activation='relu'))\n",
        "model.add(MaxPool2D(pool_size=(2, 2)))\n",
        "model.add(Dropout(rate=0.25))\n",
        "model.add(Conv2D(filters=64, kernel_size=(3, 3), activation='relu'))\n",
        "model.add(MaxPool2D(pool_size=(2, 2)))\n",
        "model.add(Dropout(rate=0.25))\n",
        "model.add(Flatten())\n",
        "model.add(Dense(256, activation='relu'))\n",
        "model.add(Dropout(rate=0.5))\n",
        "model.add(Dense(43, activation='softmax'))"
      ],
      "execution_count": null,
      "outputs": []
    },
    {
      "cell_type": "code",
      "metadata": {
        "id": "EUj3RJHMM99R",
        "colab_type": "code",
        "colab": {
          "base_uri": "https://localhost:8080/",
          "height": 527
        },
        "outputId": "f776041b-4a56-4821-bc34-13d31fc3b134"
      },
      "source": [
        "model.summary()"
      ],
      "execution_count": null,
      "outputs": [
        {
          "output_type": "stream",
          "text": [
            "Model: \"sequential\"\n",
            "_________________________________________________________________\n",
            "Layer (type)                 Output Shape              Param #   \n",
            "=================================================================\n",
            "conv2d (Conv2D)              (None, 28, 28, 32)        2432      \n",
            "_________________________________________________________________\n",
            "conv2d_1 (Conv2D)            (None, 26, 26, 64)        18496     \n",
            "_________________________________________________________________\n",
            "max_pooling2d_3 (MaxPooling2 (None, 13, 13, 64)        0         \n",
            "_________________________________________________________________\n",
            "dropout (Dropout)            (None, 13, 13, 64)        0         \n",
            "_________________________________________________________________\n",
            "conv2d_2 (Conv2D)            (None, 11, 11, 64)        36928     \n",
            "_________________________________________________________________\n",
            "max_pooling2d_4 (MaxPooling2 (None, 5, 5, 64)          0         \n",
            "_________________________________________________________________\n",
            "dropout_1 (Dropout)          (None, 5, 5, 64)          0         \n",
            "_________________________________________________________________\n",
            "flatten (Flatten)            (None, 1600)              0         \n",
            "_________________________________________________________________\n",
            "dense (Dense)                (None, 256)               409856    \n",
            "_________________________________________________________________\n",
            "dropout_2 (Dropout)          (None, 256)               0         \n",
            "_________________________________________________________________\n",
            "dense_1 (Dense)              (None, 43)                11051     \n",
            "=================================================================\n",
            "Total params: 478,763\n",
            "Trainable params: 478,763\n",
            "Non-trainable params: 0\n",
            "_________________________________________________________________\n"
          ],
          "name": "stdout"
        }
      ]
    },
    {
      "cell_type": "code",
      "metadata": {
        "id": "D-SV4oyOAszG",
        "colab_type": "code",
        "colab": {
          "base_uri": "https://localhost:8080/",
          "height": 34
        },
        "outputId": "c6e85d0e-52d2-44c9-fbe4-9c467fc56e55"
      },
      "source": [
        "features[0].shape"
      ],
      "execution_count": null,
      "outputs": [
        {
          "output_type": "execute_result",
          "data": {
            "text/plain": [
              "(32, 32, 3)"
            ]
          },
          "metadata": {
            "tags": []
          },
          "execution_count": 19
        }
      ]
    },
    {
      "cell_type": "code",
      "metadata": {
        "id": "g5BrZapSM_4Z",
        "colab_type": "code",
        "colab": {}
      },
      "source": [
        "class myCallback(tf.keras.callbacks.Callback):\n",
        "    def on_epoch_end(self, epoch, logs={}):\n",
        "        if(logs.get(\"accuracy\")>0.99):\n",
        "            print(\" Reached 99% Accuracy\")\n",
        "            self.model.stop_training = True\n",
        "\n",
        "callbacks = myCallback()\n",
        "\n",
        "# uncheck this if model fit doesn't run\n",
        "labels = np.array(labels)\n",
        "# features = np.array(features)"
      ],
      "execution_count": null,
      "outputs": []
    },
    {
      "cell_type": "code",
      "metadata": {
        "id": "dcFhBONeRmRU",
        "colab_type": "code",
        "colab": {}
      },
      "source": [
        "from keras.utils.np_utils import to_categorical\n",
        "y_train = to_categorical(y_train)"
      ],
      "execution_count": null,
      "outputs": []
    },
    {
      "cell_type": "code",
      "metadata": {
        "id": "1WHLoPlUNhVO",
        "colab_type": "code",
        "colab": {}
      },
      "source": [
        "model.compile(optimizer=tf.keras.optimizers.Adam(), loss=\"categorical_crossentropy\", metrics=[\"accuracy\"])"
      ],
      "execution_count": null,
      "outputs": []
    },
    {
      "cell_type": "code",
      "metadata": {
        "id": "nv2R6opOH1QG",
        "colab_type": "code",
        "colab": {}
      },
      "source": [
        "# print(set(labels))\n",
        "# print(len(set(labels)))"
      ],
      "execution_count": null,
      "outputs": []
    },
    {
      "cell_type": "code",
      "metadata": {
        "id": "e9DeD_1tNj1s",
        "colab_type": "code",
        "colab": {
          "base_uri": "https://localhost:8080/",
          "height": 833
        },
        "outputId": "c69ec86c-ae11-42a7-89e2-87ba1cb258bf"
      },
      "source": [
        "from time import time\n",
        "# sebelum aku coba train test split (hold out) val accuracy 0.0500 dan seteleah menggunakan hold out val accuracy dapat bertambah banyak !!!\n",
        "\n",
        "t1 = time()\n",
        "model.fit(X_train, y_train, validation_split=0.2, batch_size=64, epochs=30, callbacks=[callbacks])"
      ],
      "execution_count": null,
      "outputs": [
        {
          "output_type": "stream",
          "text": [
            "Epoch 1/30\n",
            "348/348 [==============================] - 83s 239ms/step - loss: 1.8560 - accuracy: 0.4883 - val_loss: 0.4071 - val_accuracy: 0.8791\n",
            "Epoch 2/30\n",
            "348/348 [==============================] - 83s 238ms/step - loss: 0.4466 - accuracy: 0.8613 - val_loss: 0.1411 - val_accuracy: 0.9637\n",
            "Epoch 3/30\n",
            "348/348 [==============================] - 83s 238ms/step - loss: 0.2329 - accuracy: 0.9262 - val_loss: 0.0770 - val_accuracy: 0.9822\n",
            "Epoch 4/30\n",
            "348/348 [==============================] - 83s 238ms/step - loss: 0.1619 - accuracy: 0.9487 - val_loss: 0.0611 - val_accuracy: 0.9849\n",
            "Epoch 5/30\n",
            "348/348 [==============================] - 82s 237ms/step - loss: 0.1254 - accuracy: 0.9605 - val_loss: 0.0493 - val_accuracy: 0.9896\n",
            "Epoch 6/30\n",
            "348/348 [==============================] - 86s 248ms/step - loss: 0.1056 - accuracy: 0.9687 - val_loss: 0.0438 - val_accuracy: 0.9894\n",
            "Epoch 7/30\n",
            "348/348 [==============================] - 83s 238ms/step - loss: 0.0848 - accuracy: 0.9744 - val_loss: 0.0380 - val_accuracy: 0.9912\n",
            "Epoch 8/30\n",
            "348/348 [==============================] - 83s 238ms/step - loss: 0.0757 - accuracy: 0.9769 - val_loss: 0.0389 - val_accuracy: 0.9908\n",
            "Epoch 9/30\n",
            "348/348 [==============================] - 83s 238ms/step - loss: 0.0665 - accuracy: 0.9795 - val_loss: 0.0355 - val_accuracy: 0.9923\n",
            "Epoch 10/30\n",
            "348/348 [==============================] - 83s 239ms/step - loss: 0.0578 - accuracy: 0.9820 - val_loss: 0.0476 - val_accuracy: 0.9890\n",
            "Epoch 11/30\n",
            "348/348 [==============================] - 83s 239ms/step - loss: 0.0537 - accuracy: 0.9834 - val_loss: 0.0317 - val_accuracy: 0.9935\n",
            "Epoch 12/30\n",
            "348/348 [==============================] - 83s 238ms/step - loss: 0.0480 - accuracy: 0.9862 - val_loss: 0.0356 - val_accuracy: 0.9921\n",
            "Epoch 13/30\n",
            "348/348 [==============================] - 83s 239ms/step - loss: 0.0528 - accuracy: 0.9843 - val_loss: 0.0312 - val_accuracy: 0.9932\n",
            "Epoch 14/30\n",
            "348/348 [==============================] - 83s 238ms/step - loss: 0.0467 - accuracy: 0.9859 - val_loss: 0.0313 - val_accuracy: 0.9944\n",
            "Epoch 15/30\n",
            "348/348 [==============================] - 83s 238ms/step - loss: 0.0461 - accuracy: 0.9850 - val_loss: 0.0267 - val_accuracy: 0.9948\n",
            "Epoch 16/30\n",
            "348/348 [==============================] - 83s 238ms/step - loss: 0.0406 - accuracy: 0.9874 - val_loss: 0.0353 - val_accuracy: 0.9934\n",
            "Epoch 17/30\n",
            "348/348 [==============================] - 83s 238ms/step - loss: 0.0415 - accuracy: 0.9868 - val_loss: 0.0324 - val_accuracy: 0.9937\n",
            "Epoch 18/30\n",
            "348/348 [==============================] - 83s 238ms/step - loss: 0.0347 - accuracy: 0.9892 - val_loss: 0.0324 - val_accuracy: 0.9944\n",
            "Epoch 19/30\n",
            "348/348 [==============================] - 83s 239ms/step - loss: 0.0380 - accuracy: 0.9885 - val_loss: 0.0279 - val_accuracy: 0.9946\n",
            "Epoch 20/30\n",
            "348/348 [==============================] - 83s 238ms/step - loss: 0.0359 - accuracy: 0.9885 - val_loss: 0.0332 - val_accuracy: 0.9937\n",
            "Epoch 21/30\n",
            "348/348 [==============================] - 83s 240ms/step - loss: 0.0370 - accuracy: 0.9890 - val_loss: 0.0331 - val_accuracy: 0.9943\n",
            "Epoch 22/30\n",
            "348/348 [==============================] - 84s 240ms/step - loss: 0.0358 - accuracy: 0.9891 - val_loss: 0.0279 - val_accuracy: 0.9950\n",
            "Epoch 23/30\n",
            "348/348 [==============================] - ETA: 0s - loss: 0.0318 - accuracy: 0.9903 Reached 99% Accuracy\n",
            "348/348 [==============================] - 83s 238ms/step - loss: 0.0318 - accuracy: 0.9903 - val_loss: 0.0299 - val_accuracy: 0.9935\n"
          ],
          "name": "stdout"
        },
        {
          "output_type": "execute_result",
          "data": {
            "text/plain": [
              "<tensorflow.python.keras.callbacks.History at 0x7f399d52ceb8>"
            ]
          },
          "metadata": {
            "tags": []
          },
          "execution_count": 24
        }
      ]
    },
    {
      "cell_type": "code",
      "metadata": {
        "id": "sh59FwQxNpG2",
        "colab_type": "code",
        "colab": {
          "base_uri": "https://localhost:8080/",
          "height": 34
        },
        "outputId": "0287af6b-9004-480d-afd2-913ed225ce8e"
      },
      "source": [
        "print(f\"Training time: {round(time()-t1)} second\")"
      ],
      "execution_count": null,
      "outputs": [
        {
          "output_type": "stream",
          "text": [
            "Training time: 1918 second\n"
          ],
          "name": "stdout"
        }
      ]
    },
    {
      "cell_type": "code",
      "metadata": {
        "id": "vDoGm1FkrX3o",
        "colab_type": "code",
        "colab": {}
      },
      "source": [
        "# def grayscale(img):\n",
        "#     img = cv2.cvtColor(img,cv2.COLOR_BGR2GRAY)\n",
        "#     return img\n",
        "# def equalize(img):\n",
        "#     img =cv2.equalizeHist(img)\n",
        "#     return img\n",
        "# def preprocessing(img):\n",
        "#     img = grayscale(img)\n",
        "#     img = equalize(img)\n",
        "#     img = img/255\n",
        "#     return img\n",
        "# def getCalssName(classNo):\n",
        "#     if   classNo == 0: print('Speed Limit 20 km/h')\n",
        "#     elif classNo == 1: print('Speed Limit 30 km/h')\n",
        "#     elif classNo == 2: print('Speed Limit 50 km/h')\n",
        "#     elif classNo == 3: print('Speed Limit 60 km/h')\n",
        "#     elif classNo == 4: print('Speed Limit 70 km/h')\n",
        "#     elif classNo == 5: print('Speed Limit 80 km/h')\n",
        "#     elif classNo == 6: print('End of Speed Limit 80 km/h')\n",
        "#     elif classNo == 7: print('Speed Limit 100 km/h')\n",
        "#     elif classNo == 8: print('Speed Limit 120 km/h')\n",
        "#     elif classNo == 9: print('No passing')\n",
        "#     elif classNo == 10: print('No passing for vechiles over 3.5 metric tons')\n",
        "#     elif classNo == 11: print('Right-of-way at the next intersection')\n",
        "#     elif classNo == 12: print('Priority road')\n",
        "#     elif classNo == 13: print('Yield')\n",
        "#     elif classNo == 14: print('Stop')\n",
        "#     elif classNo == 15: print('No vechiles')\n",
        "#     elif classNo == 16: print('Vechiles over 3.5 metric tons prohibited')\n",
        "#     elif classNo == 17: print('No entry')\n",
        "#     elif classNo == 18: print('General caution')\n",
        "#     elif classNo == 19: print('Dangerous curve to the left')\n",
        "#     elif classNo == 20: print('Dangerous curve to the right')\n",
        "#     elif classNo == 21: print('Double curve')\n",
        "#     elif classNo == 22: print('Bumpy road')\n",
        "#     elif classNo == 23: print('Slippery road')\n",
        "#     elif classNo == 24: print('Road narrows on the right')\n",
        "#     elif classNo == 25: print('Road work')\n",
        "#     elif classNo == 26: print('Traffic signals')\n",
        "#     elif classNo == 27: print('Pedestrians')\n",
        "#     elif classNo == 28: print('Children crossing')\n",
        "#     elif classNo == 29: print('Bicycles crossing')\n",
        "#     elif classNo == 30: rprint('Beware of ice/snow')\n",
        "#     elif classNo == 31: print('Wild animals crossing')\n",
        "#     elif classNo == 32: print('End of all speed and passing limits')\n",
        "#     elif classNo == 33: print('Turn right ahead')\n",
        "#     elif classNo == 34: print('Turn left ahead')\n",
        "#     elif classNo == 35: print('Ahead only')\n",
        "#     elif classNo == 36: print('Go straight or right')\n",
        "#     elif classNo == 37: print('Go straight or left')\n",
        "#     elif classNo == 38: print('Keep right')\n",
        "#     elif classNo == 39: rprint('Keep left')\n",
        "#     elif classNo == 40: print('Roundabout mandatory')\n",
        "#     elif classNo == 41: print('End of no passing')\n",
        "#     elif classNo == 42: print('End of no passing by vechiles over 3.5 metric tons')"
      ],
      "execution_count": null,
      "outputs": []
    },
    {
      "cell_type": "code",
      "metadata": {
        "id": "EB6xZOoSuHDn",
        "colab_type": "code",
        "colab": {}
      },
      "source": [
        "# from tensorflow.keras.preprocessing import image\n",
        "\n",
        "# test_dir = os.path.join(\"Images\")\n",
        "\n",
        "# test_names = os.listdir(test_dir)\n",
        "# print(test_names)"
      ],
      "execution_count": null,
      "outputs": []
    },
    {
      "cell_type": "code",
      "metadata": {
        "id": "mpjN0MgauTRQ",
        "colab_type": "code",
        "colab": {}
      },
      "source": [
        "# for i in test_names:\n",
        "#     path = os.path.join(test_dir, i)\n",
        "#     img = image.load_img(path, target_size=(32,32), color_mode='rgb')\n",
        "#     x = image.img_to_array(img)\n",
        "#     x = np.expand_dims(x, axis=0) \n",
        "#     x = x/255.0\n",
        "    \n",
        "#     images = np.vstack([x])\n",
        "#     classes = model.predict(images, batch_size=10)\n",
        "#     probabilityValue =np.argmax(classes)\n",
        "\n",
        "#     print(f\"Image: {i} =\", end=\" \")\n",
        "#     getCalssName(probabilityValue)"
      ],
      "execution_count": null,
      "outputs": []
    },
    {
      "cell_type": "code",
      "metadata": {
        "id": "Jf042QrFhxTm",
        "colab_type": "code",
        "colab": {}
      },
      "source": [
        ""
      ],
      "execution_count": null,
      "outputs": []
    }
  ]
}